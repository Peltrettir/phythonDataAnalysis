{
 "cells": [
  {
   "cell_type": "code",
   "execution_count": 50,
   "metadata": {},
   "outputs": [],
   "source": [
    "import numpy as np\n",
    "import pandas as pd\n",
    "import matplotlib.pyplot as plt\n",
    "import seaborn as sns\n"
   ]
  },
  {
   "cell_type": "markdown",
   "metadata": {},
   "source": [
    "## Importing data"
   ]
  },
  {
   "cell_type": "code",
   "execution_count": 51,
   "metadata": {},
   "outputs": [],
   "source": [
    "data = pd.read_csv('datasets/articles_data_clean.csv')\n",
    "source_info = pd.read_csv('datasets/source_info.csv')"
   ]
  },
  {
   "cell_type": "code",
   "execution_count": 52,
   "metadata": {},
   "outputs": [],
   "source": [
    "data['datetime'] = pd.to_datetime(data['datetime'])"
   ]
  },
  {
   "cell_type": "code",
   "execution_count": 53,
   "metadata": {},
   "outputs": [],
   "source": [
    "#Reconverting dtypes object -> string\n",
    "data.set_index('id', inplace=True)\n",
    "objcol = data.select_dtypes('object').columns\n",
    "data[objcol] = data[objcol].astype('string')\n",
    "\n",
    "source_info.set_index('id', inplace=True)\n",
    "objcol = source_info.select_dtypes('object').columns\n",
    "source_info[objcol] = source_info[objcol].astype('string')"
   ]
  },
  {
   "cell_type": "code",
   "execution_count": 54,
   "metadata": {},
   "outputs": [],
   "source": [
    "#Reconverting dtypes float64 -> int64\n",
    "floatcol = data.select_dtypes('float64').columns\n",
    "data[floatcol] = data[floatcol].astype('int64')"
   ]
  },
  {
   "cell_type": "code",
   "execution_count": 55,
   "metadata": {},
   "outputs": [
    {
     "name": "stdout",
     "output_type": "stream",
     "text": [
      "<class 'pandas.core.frame.DataFrame'>\n",
      "Int64Index: 10317 entries, 0 to 10436\n",
      "Data columns (total 8 columns):\n",
      " #   Column          Non-Null Count  Dtype              \n",
      "---  ------          --------------  -----              \n",
      " 0   source_id       10317 non-null  string             \n",
      " 1   title           10317 non-null  string             \n",
      " 2   datetime        10317 non-null  datetime64[ns, UTC]\n",
      " 3   top_article     10317 non-null  bool               \n",
      " 4   reactions       10317 non-null  int64              \n",
      " 5   comments        10317 non-null  int64              \n",
      " 6   shares          10317 non-null  int64              \n",
      " 7   comment_plugin  10317 non-null  int64              \n",
      "dtypes: bool(1), datetime64[ns, UTC](1), int64(4), string(2)\n",
      "memory usage: 654.9 KB\n"
     ]
    }
   ],
   "source": [
    "data.info()"
   ]
  },
  {
   "cell_type": "code",
   "execution_count": 56,
   "metadata": {},
   "outputs": [
    {
     "name": "stdout",
     "output_type": "stream",
     "text": [
      "<class 'pandas.core.frame.DataFrame'>\n",
      "Index: 12 entries, reuters to espn\n",
      "Data columns (total 2 columns):\n",
      " #   Column    Non-Null Count  Dtype \n",
      "---  ------    --------------  ----- \n",
      " 0   name      12 non-null     string\n",
      " 1   articles  12 non-null     int64 \n",
      "dtypes: int64(1), string(1)\n",
      "memory usage: 288.0+ bytes\n"
     ]
    }
   ],
   "source": [
    "source_info.info()"
   ]
  },
  {
   "cell_type": "markdown",
   "metadata": {},
   "source": [
    "## Batch analysis"
   ]
  },
  {
   "cell_type": "code",
   "execution_count": 57,
   "metadata": {},
   "outputs": [
    {
     "data": {
      "text/html": [
       "<div>\n",
       "<style scoped>\n",
       "    .dataframe tbody tr th:only-of-type {\n",
       "        vertical-align: middle;\n",
       "    }\n",
       "\n",
       "    .dataframe tbody tr th {\n",
       "        vertical-align: top;\n",
       "    }\n",
       "\n",
       "    .dataframe thead th {\n",
       "        text-align: right;\n",
       "    }\n",
       "</style>\n",
       "<table border=\"1\" class=\"dataframe\">\n",
       "  <thead>\n",
       "    <tr style=\"text-align: right;\">\n",
       "      <th></th>\n",
       "      <th>count</th>\n",
       "      <th>mean</th>\n",
       "      <th>std</th>\n",
       "      <th>min</th>\n",
       "      <th>25%</th>\n",
       "      <th>50%</th>\n",
       "      <th>75%</th>\n",
       "      <th>max</th>\n",
       "    </tr>\n",
       "  </thead>\n",
       "  <tbody>\n",
       "    <tr>\n",
       "      <th>reactions</th>\n",
       "      <td>10317.0</td>\n",
       "      <td>381.416788</td>\n",
       "      <td>4433.772657</td>\n",
       "      <td>0.0</td>\n",
       "      <td>0.0</td>\n",
       "      <td>1.0</td>\n",
       "      <td>43.0</td>\n",
       "      <td>354132.0</td>\n",
       "    </tr>\n",
       "    <tr>\n",
       "      <th>comments</th>\n",
       "      <td>10317.0</td>\n",
       "      <td>124.006591</td>\n",
       "      <td>965.436117</td>\n",
       "      <td>0.0</td>\n",
       "      <td>0.0</td>\n",
       "      <td>0.0</td>\n",
       "      <td>12.0</td>\n",
       "      <td>48490.0</td>\n",
       "    </tr>\n",
       "    <tr>\n",
       "      <th>shares</th>\n",
       "      <td>10317.0</td>\n",
       "      <td>196.236309</td>\n",
       "      <td>1020.775517</td>\n",
       "      <td>0.0</td>\n",
       "      <td>1.0</td>\n",
       "      <td>8.0</td>\n",
       "      <td>47.0</td>\n",
       "      <td>39422.0</td>\n",
       "    </tr>\n",
       "    <tr>\n",
       "      <th>comment_plugin</th>\n",
       "      <td>10317.0</td>\n",
       "      <td>0.011631</td>\n",
       "      <td>0.268301</td>\n",
       "      <td>0.0</td>\n",
       "      <td>0.0</td>\n",
       "      <td>0.0</td>\n",
       "      <td>0.0</td>\n",
       "      <td>15.0</td>\n",
       "    </tr>\n",
       "  </tbody>\n",
       "</table>\n",
       "</div>"
      ],
      "text/plain": [
       "                  count        mean          std  min  25%  50%   75%  \\\n",
       "reactions       10317.0  381.416788  4433.772657  0.0  0.0  1.0  43.0   \n",
       "comments        10317.0  124.006591   965.436117  0.0  0.0  0.0  12.0   \n",
       "shares          10317.0  196.236309  1020.775517  0.0  1.0  8.0  47.0   \n",
       "comment_plugin  10317.0    0.011631     0.268301  0.0  0.0  0.0   0.0   \n",
       "\n",
       "                     max  \n",
       "reactions       354132.0  \n",
       "comments         48490.0  \n",
       "shares           39422.0  \n",
       "comment_plugin      15.0  "
      ]
     },
     "execution_count": 57,
     "metadata": {},
     "output_type": "execute_result"
    }
   ],
   "source": [
    "data_description = data.describe().T\n",
    "data_description"
   ]
  },
  {
   "cell_type": "code",
   "execution_count": 58,
   "metadata": {},
   "outputs": [
    {
     "data": {
      "text/html": [
       "<div>\n",
       "<style scoped>\n",
       "    .dataframe tbody tr th:only-of-type {\n",
       "        vertical-align: middle;\n",
       "    }\n",
       "\n",
       "    .dataframe tbody tr th {\n",
       "        vertical-align: top;\n",
       "    }\n",
       "\n",
       "    .dataframe thead th {\n",
       "        text-align: right;\n",
       "    }\n",
       "</style>\n",
       "<table border=\"1\" class=\"dataframe\">\n",
       "  <thead>\n",
       "    <tr style=\"text-align: right;\">\n",
       "      <th></th>\n",
       "      <th>count</th>\n",
       "      <th>mean</th>\n",
       "      <th>std</th>\n",
       "      <th>min</th>\n",
       "      <th>25%</th>\n",
       "      <th>50%</th>\n",
       "      <th>75%</th>\n",
       "      <th>max</th>\n",
       "      <th>n_nonzero</th>\n",
       "    </tr>\n",
       "  </thead>\n",
       "  <tbody>\n",
       "    <tr>\n",
       "      <th>reactions</th>\n",
       "      <td>10317.0</td>\n",
       "      <td>381.416788</td>\n",
       "      <td>4433.772657</td>\n",
       "      <td>0.0</td>\n",
       "      <td>0.0</td>\n",
       "      <td>1.0</td>\n",
       "      <td>43.0</td>\n",
       "      <td>354132.0</td>\n",
       "      <td>5512</td>\n",
       "    </tr>\n",
       "    <tr>\n",
       "      <th>comments</th>\n",
       "      <td>10317.0</td>\n",
       "      <td>124.006591</td>\n",
       "      <td>965.436117</td>\n",
       "      <td>0.0</td>\n",
       "      <td>0.0</td>\n",
       "      <td>0.0</td>\n",
       "      <td>12.0</td>\n",
       "      <td>48490.0</td>\n",
       "      <td>4482</td>\n",
       "    </tr>\n",
       "    <tr>\n",
       "      <th>shares</th>\n",
       "      <td>10317.0</td>\n",
       "      <td>196.236309</td>\n",
       "      <td>1020.775517</td>\n",
       "      <td>0.0</td>\n",
       "      <td>1.0</td>\n",
       "      <td>8.0</td>\n",
       "      <td>47.0</td>\n",
       "      <td>39422.0</td>\n",
       "      <td>7833</td>\n",
       "    </tr>\n",
       "    <tr>\n",
       "      <th>comment_plugin</th>\n",
       "      <td>10317.0</td>\n",
       "      <td>0.011631</td>\n",
       "      <td>0.268301</td>\n",
       "      <td>0.0</td>\n",
       "      <td>0.0</td>\n",
       "      <td>0.0</td>\n",
       "      <td>0.0</td>\n",
       "      <td>15.0</td>\n",
       "      <td>50</td>\n",
       "    </tr>\n",
       "  </tbody>\n",
       "</table>\n",
       "</div>"
      ],
      "text/plain": [
       "                  count        mean          std  min  25%  50%   75%  \\\n",
       "reactions       10317.0  381.416788  4433.772657  0.0  0.0  1.0  43.0   \n",
       "comments        10317.0  124.006591   965.436117  0.0  0.0  0.0  12.0   \n",
       "shares          10317.0  196.236309  1020.775517  0.0  1.0  8.0  47.0   \n",
       "comment_plugin  10317.0    0.011631     0.268301  0.0  0.0  0.0   0.0   \n",
       "\n",
       "                     max  n_nonzero  \n",
       "reactions       354132.0       5512  \n",
       "comments         48490.0       4482  \n",
       "shares           39422.0       7833  \n",
       "comment_plugin      15.0         50  "
      ]
     },
     "execution_count": 58,
     "metadata": {},
     "output_type": "execute_result"
    }
   ],
   "source": [
    "#There seem to be a lot of zeroes\n",
    "\n",
    "data_description['n_nonzero'] = data[data_description.index].applymap(lambda x: 1 if x > 0 else 0)[data_description.index].sum()\n",
    "data_description"
   ]
  },
  {
   "cell_type": "markdown",
   "metadata": {},
   "source": [
    "## Source by source analysis"
   ]
  },
  {
   "cell_type": "code",
   "execution_count": 59,
   "metadata": {},
   "outputs": [
    {
     "name": "stdout",
     "output_type": "stream",
     "text": [
      "\u001b[1mabc-news\n",
      "\u001b[0m                 count        mean          std  min  25%  50%  75%      max\n",
      "reactions       1139.0  301.825285  3248.008820  0.0  0.0  0.0  0.0  91311.0\n",
      "comments        1139.0   90.173837   739.988366  0.0  0.0  0.0  0.0  20128.0\n",
      "shares          1139.0   72.574188   736.899852  0.0  0.0  3.0  5.5  22080.0\n",
      "comment_plugin  1139.0    0.000878     0.029630  0.0  0.0  0.0  0.0      1.0\n",
      "\n",
      "\n",
      "\n",
      "\u001b[1mal-jazeera-english\n",
      "\u001b[0m                count        mean         std  min  25%   50%   75%     max\n",
      "reactions       499.0  281.382766  953.474030  0.0  0.0   4.0  66.0  9268.0\n",
      "comments        499.0   92.194389  337.043835  0.0  0.0   1.0  11.0  4245.0\n",
      "shares          499.0   72.206413  220.059903  0.0  9.5  18.0  43.5  2475.0\n",
      "comment_plugin  499.0    0.018036    0.133215  0.0  0.0   0.0   0.0     1.0\n",
      "\n",
      "\n",
      "\n",
      "\u001b[1mbbc-news\n",
      "\u001b[0m                 count        mean          std  min  25%  50%    75%  \\\n",
      "reactions       1242.0  439.127214  4422.955716  0.0  0.0  2.0  27.00   \n",
      "comments        1242.0  167.115942  1683.402981  0.0  0.0  0.0  12.00   \n",
      "shares          1242.0  161.542673  1532.002306  0.0  1.0  8.0  36.75   \n",
      "comment_plugin  1242.0    0.000000     0.000000  0.0  0.0  0.0   0.00   \n",
      "\n",
      "                     max  \n",
      "reactions       125106.0  \n",
      "comments         48490.0  \n",
      "shares           36720.0  \n",
      "comment_plugin       0.0  \n",
      "\n",
      "\n",
      "\n",
      "\u001b[1mbusiness-insider\n",
      "\u001b[0m                 count        mean          std  min  25%   50%    75%  \\\n",
      "reactions       1048.0  206.626908  1667.146916  0.0  0.0  12.0  58.00   \n",
      "comments        1048.0   96.652672   742.161039  0.0  0.0   1.0  13.00   \n",
      "shares          1048.0  297.402672   812.581575  0.0  3.0  13.0  64.25   \n",
      "comment_plugin  1048.0    0.076336     0.776870  0.0  0.0   0.0   0.00   \n",
      "\n",
      "                    max  \n",
      "reactions       49024.0  \n",
      "comments        22147.0  \n",
      "shares          13453.0  \n",
      "comment_plugin     15.0  \n",
      "\n",
      "\n",
      "\n",
      "\u001b[1mcbs-news\n",
      "\u001b[0m                count        mean          std  min  25%  50%     75%      max\n",
      "reactions       952.0  482.921218  2280.611257  0.0  0.0  2.0  163.00  39624.0\n",
      "comments        952.0  179.579832   691.837256  0.0  0.0  1.0   64.00   9402.0\n",
      "shares          952.0  113.608193   461.759811  0.0  1.0  5.0   46.25   6312.0\n",
      "comment_plugin  952.0    0.000000     0.000000  0.0  0.0  0.0    0.00      0.0\n",
      "\n",
      "\n",
      "\n",
      "\u001b[1mcnn\n",
      "\u001b[0m                 count         mean           std  min   25%   50%     75%  \\\n",
      "reactions       1132.0  1076.153710  11190.172453  0.0   0.0  13.0  164.00   \n",
      "comments        1132.0   304.676678   1699.460433  0.0   0.0   4.0   66.25   \n",
      "shares          1132.0   289.556537   1526.880922  0.0  14.0  43.5  127.25   \n",
      "comment_plugin  1132.0     0.026502      0.290134  0.0   0.0   0.0    0.00   \n",
      "\n",
      "                     max  \n",
      "reactions       354132.0  \n",
      "comments         41293.0  \n",
      "shares           39422.0  \n",
      "comment_plugin       8.0  \n",
      "\n",
      "\n",
      "\n",
      "\u001b[1mespn\n",
      "\u001b[0m                count  mean  std  min  25%  50%  75%  max\n",
      "reactions        82.0   0.0  0.0  0.0  0.0  0.0  0.0  0.0\n",
      "comments         82.0   0.0  0.0  0.0  0.0  0.0  0.0  0.0\n",
      "shares           82.0   0.0  0.0  0.0  0.0  0.0  0.0  0.0\n",
      "comment_plugin   82.0   0.0  0.0  0.0  0.0  0.0  0.0  0.0\n",
      "\n",
      "\n",
      "\n",
      "\u001b[1mnewsweek\n",
      "\u001b[0m                count        mean         std  min  25%  50%   75%     max\n",
      "reactions       539.0  172.851577  644.536475  0.0  0.0  2.0  56.0  7953.0\n",
      "comments        539.0   60.159555  263.294061  0.0  0.0  0.0  14.5  4218.0\n",
      "shares          539.0   53.927644  193.502198  0.0  0.0  3.0  20.0  2205.0\n",
      "comment_plugin  539.0    0.000000    0.000000  0.0  0.0  0.0   0.0     0.0\n",
      "\n",
      "\n",
      "\n",
      "\u001b[1mreuters\n",
      "\u001b[0m                 count        mean          std  min  25%  50%     75%  \\\n",
      "reactions       1252.0   13.548722    69.121911  0.0  0.0  0.0    0.00   \n",
      "comments        1252.0    5.671725    34.119062  0.0  0.0  0.0    0.00   \n",
      "shares          1252.0  516.849042  1319.298615  0.0  0.0  2.0  755.25   \n",
      "comment_plugin  1252.0    0.000000     0.000000  0.0  0.0  0.0    0.00   \n",
      "\n",
      "                    max  \n",
      "reactions        1184.0  \n",
      "comments          638.0  \n",
      "shares          12895.0  \n",
      "comment_plugin      0.0  \n",
      "\n",
      "\n",
      "\n",
      "\u001b[1mthe-irish-times\n",
      "\u001b[0m                 count       mean         std  min  25%  50%  75%     max\n",
      "reactions       1116.0  24.048387  112.540509  0.0  0.0  0.0  4.0  2043.0\n",
      "comments        1116.0   9.421147   39.730031  0.0  0.0  0.0  1.0   678.0\n",
      "shares          1116.0   6.224910   23.871152  0.0  0.0  1.0  3.0   357.0\n",
      "comment_plugin  1116.0   0.000000    0.000000  0.0  0.0  0.0  0.0     0.0\n",
      "\n",
      "\n",
      "\n",
      "\u001b[1mthe-new-york-times\n",
      "\u001b[0m                count        mean          std  min   25%   50%    75%  \\\n",
      "reactions       983.0  803.568667  3874.520691  0.0   2.0  46.0  302.5   \n",
      "comments        983.0  219.585961   967.256143  0.0   0.0  11.0  103.0   \n",
      "shares          983.0  245.521872  1100.370544  0.0  15.0  43.0  134.0   \n",
      "comment_plugin  983.0    0.000000     0.000000  0.0   0.0   0.0    0.0   \n",
      "\n",
      "                    max  \n",
      "reactions       66910.0  \n",
      "comments        15742.0  \n",
      "shares          24519.0  \n",
      "comment_plugin      0.0  \n",
      "\n",
      "\n",
      "\n",
      "\u001b[1mthe-wall-street-journal\n",
      "\u001b[0m                count        mean          std  min  25%   50%   75%      max\n",
      "reactions       333.0  252.624625  1179.900838  0.0  0.0  13.0  80.0  18794.0\n",
      "comments        333.0  120.315315   464.430886  0.0  0.0   4.0  35.0   6958.0\n",
      "shares          333.0   99.618619   320.126154  0.0  2.0  18.0  56.0   4541.0\n",
      "comment_plugin  333.0    0.000000     0.000000  0.0  0.0   0.0   0.0      0.0\n",
      "\n",
      "\n",
      "\n"
     ]
    }
   ],
   "source": [
    "for key, item in data.groupby(['source_id']):\n",
    "    print('\\033[1m' + key, end='\\n\\033[0m')\n",
    "    print(item.describe().T, end='\\n\\n\\n\\n')"
   ]
  },
  {
   "cell_type": "code",
   "execution_count": 60,
   "metadata": {},
   "outputs": [],
   "source": [
    "#News from espn and the column comment_plugin can be dropped\n",
    "data.drop(columns='comment_plugin', inplace=True)\n",
    "data.drop(data[data['source_id'] == 'espn'].index, inplace=True)\n",
    "source_info.drop('espn', inplace=True)"
   ]
  },
  {
   "cell_type": "code",
   "execution_count": 61,
   "metadata": {},
   "outputs": [],
   "source": [
    "numcol = data.select_dtypes('int64').columns\n",
    "ngraphs = numcol.size\n",
    "nsources = source_info.index.size"
   ]
  },
  {
   "cell_type": "code",
   "execution_count": 62,
   "metadata": {},
   "outputs": [
    {
     "data": {
      "image/png": "[encoded data removed]",
      "text/plain": [
       "<Figure size 1800x6480 with 11 Axes>"
      ]
     },
     "metadata": {
      "needs_background": "dark"
     },
     "output_type": "display_data"
    }
   ],
   "source": [
    "#Creating a figure with one axes for each news source. \n",
    "fig, big_axes = plt.subplots(figsize=(25.0, 90.0) , nrows=nsources, ncols=1) \n",
    "\n",
    "for row, source_ax in enumerate(big_axes, start=1):\n",
    "    source_ax.set_title(source_info['name'][row -1], fontsize=16, pad=40)\n",
    "    #Making row axes \"invisible\"\n",
    "    source_ax.tick_params(labelcolor=(1.,1.,1., 0.0), top='on', bottom='off', left='off', right='off')\n",
    "    source_ax._frameon = False"
   ]
  },
  {
   "cell_type": "code",
   "execution_count": 69,
   "metadata": {
    "scrolled": true
   },
   "outputs": [
    {
     "name": "stderr",
     "output_type": "stream",
     "text": [
      "<ipython-input-69-05d62b06af7c>:7: MatplotlibDeprecationWarning: Adding an axes using the same arguments as a previous axes currently reuses the earlier instance.  In a future version, a new instance will always be created and returned.  Meanwhile, this warning can be suppressed, and the future behavior ensured, by passing a unique label to each axes instance.\n",
      "  ax = fig.add_subplot(nsources, ngraphs, i +1)\n"
     ]
    }
   ],
   "source": [
    "#Drawing the histograms\n",
    "for i in range(nsources * ngraphs):\n",
    "    datacol = numcol[i % ngraphs]\n",
    "    datagroup = data.groupby(['source_id']).get_group(source_info.index[i // ngraphs])[datacol]\n",
    "    max = datagroup.max()\n",
    "    \n",
    "    ax = fig.add_subplot(nsources, ngraphs, i +1)\n",
    "    ax.set_title(datacol)\n",
    "    ax.hist(datagroup, bins=100)\n",
    "    ax.annotate('max: ' + str(max), xy=(max, 1), xytext=(max - max/4, 100), fontsize=14, arrowprops = dict(facecolor='black', shrink=0.05))\n",
    "    \n",
    "fig.set_facecolor('w')\n",
    "fig"
   ]
  },
  {
   "cell_type": "code",
   "execution_count": 64,
   "metadata": {},
   "outputs": [
    {
     "name": "stdout",
     "output_type": "stream",
     "text": [
      "abc-news\n",
      "            count        mean          std  min  25%  50%  75%      max\n",
      "reactions  1139.0  301.825285  3248.008820  0.0  0.0  0.0  0.0  91311.0\n",
      "comments   1139.0   90.173837   739.988366  0.0  0.0  0.0  0.0  20128.0\n",
      "shares     1139.0   72.574188   736.899852  0.0  0.0  3.0  5.5  22080.0\n",
      "al-jazeera-english\n",
      "           count        mean         std  min  25%   50%   75%     max\n",
      "reactions  499.0  281.382766  953.474030  0.0  0.0   4.0  66.0  9268.0\n",
      "comments   499.0   92.194389  337.043835  0.0  0.0   1.0  11.0  4245.0\n",
      "shares     499.0   72.206413  220.059903  0.0  9.5  18.0  43.5  2475.0\n",
      "bbc-news\n",
      "            count        mean          std  min  25%  50%    75%       max\n",
      "reactions  1242.0  439.127214  4422.955716  0.0  0.0  2.0  27.00  125106.0\n",
      "comments   1242.0  167.115942  1683.402981  0.0  0.0  0.0  12.00   48490.0\n",
      "shares     1242.0  161.542673  1532.002306  0.0  1.0  8.0  36.75   36720.0\n",
      "business-insider\n",
      "            count        mean          std  min  25%   50%    75%      max\n",
      "reactions  1048.0  206.626908  1667.146916  0.0  0.0  12.0  58.00  49024.0\n",
      "comments   1048.0   96.652672   742.161039  0.0  0.0   1.0  13.00  22147.0\n",
      "shares     1048.0  297.402672   812.581575  0.0  3.0  13.0  64.25  13453.0\n",
      "cbs-news\n",
      "           count        mean          std  min  25%  50%     75%      max\n",
      "reactions  952.0  482.921218  2280.611257  0.0  0.0  2.0  163.00  39624.0\n",
      "comments   952.0  179.579832   691.837256  0.0  0.0  1.0   64.00   9402.0\n",
      "shares     952.0  113.608193   461.759811  0.0  1.0  5.0   46.25   6312.0\n",
      "cnn\n",
      "            count         mean           std  min   25%   50%     75%  \\\n",
      "reactions  1132.0  1076.153710  11190.172453  0.0   0.0  13.0  164.00   \n",
      "comments   1132.0   304.676678   1699.460433  0.0   0.0   4.0   66.25   \n",
      "shares     1132.0   289.556537   1526.880922  0.0  14.0  43.5  127.25   \n",
      "\n",
      "                max  \n",
      "reactions  354132.0  \n",
      "comments    41293.0  \n",
      "shares      39422.0  \n",
      "newsweek\n",
      "           count        mean         std  min  25%  50%   75%     max\n",
      "reactions  539.0  172.851577  644.536475  0.0  0.0  2.0  56.0  7953.0\n",
      "comments   539.0   60.159555  263.294061  0.0  0.0  0.0  14.5  4218.0\n",
      "shares     539.0   53.927644  193.502198  0.0  0.0  3.0  20.0  2205.0\n",
      "reuters\n",
      "            count        mean          std  min  25%  50%     75%      max\n",
      "reactions  1252.0   13.548722    69.121911  0.0  0.0  0.0    0.00   1184.0\n",
      "comments   1252.0    5.671725    34.119062  0.0  0.0  0.0    0.00    638.0\n",
      "shares     1252.0  516.849042  1319.298615  0.0  0.0  2.0  755.25  12895.0\n",
      "the-irish-times\n",
      "            count       mean         std  min  25%  50%  75%     max\n",
      "reactions  1116.0  24.048387  112.540509  0.0  0.0  0.0  4.0  2043.0\n",
      "comments   1116.0   9.421147   39.730031  0.0  0.0  0.0  1.0   678.0\n",
      "shares     1116.0   6.224910   23.871152  0.0  0.0  1.0  3.0   357.0\n",
      "the-new-york-times\n",
      "           count        mean          std  min   25%   50%    75%      max\n",
      "reactions  983.0  803.568667  3874.520691  0.0   2.0  46.0  302.5  66910.0\n",
      "comments   983.0  219.585961   967.256143  0.0   0.0  11.0  103.0  15742.0\n",
      "shares     983.0  245.521872  1100.370544  0.0  15.0  43.0  134.0  24519.0\n",
      "the-wall-street-journal\n",
      "           count        mean          std  min  25%   50%   75%      max\n",
      "reactions  333.0  252.624625  1179.900838  0.0  0.0  13.0  80.0  18794.0\n",
      "comments   333.0  120.315315   464.430886  0.0  0.0   4.0  35.0   6958.0\n",
      "shares     333.0   99.618619   320.126154  0.0  2.0  18.0  56.0   4541.0\n"
     ]
    }
   ],
   "source": [
    "#Most of the categories for each source seem to have an outlier (a single high interaction article)\n",
    "for key, item in data.groupby('source_id'):\n",
    "    print(key)\n",
    "    print(item.describe().T)"
   ]
  },
  {
   "cell_type": "code",
   "execution_count": 65,
   "metadata": {
    "scrolled": true
   },
   "outputs": [
    {
     "name": "stdout",
     "output_type": "stream",
     "text": [
      "\u001b[1mABC News\u001b[0m\n",
      "\n",
      "reactions: Amber Guyger convicted of murder in wrong-apartment killing of innocent man | 15\n",
      "comments: Amber Guyger convicted of murder in wrong-apartment killing of innocent man | 15\n",
      "shares: Amber Guyger convicted of murder in wrong-apartment killing of innocent man | 15\n",
      "\n",
      "\u001b[1mAl Jazeera English\u001b[0m\n",
      "\n",
      "reactions: India's space hopes dashed for now with loss of lunar lander | 4\n",
      "comments: India's space hopes dashed for now with loss of lunar lander | 4\n",
      "shares: Kashmir: Life under siege | 5\n",
      "\n",
      "\u001b[1mBBC News\u001b[0m\n",
      "\n",
      "reactions: Zimbabwe ex-President Robert Mugabe dies aged 95 | 5\n",
      "comments: Zimbabwe ex-President Robert Mugabe dies aged 95 | 5\n",
      "shares: MPs return ahead of key Brexit vote | 14\n",
      "\n",
      "\u001b[1mBusiness Insider\u001b[0m\n",
      "\n",
      "reactions: Walmart will ban shoppers from openly carrying guns in its stores and stop selling some ammunition in response to 2 deadly shootings | 17\n",
      "comments: Walmart will ban shoppers from openly carrying guns in its stores and stop selling some ammunition in response to 2 deadly shootings | 17\n",
      "shares: Walmart will ban shoppers from openly carrying guns in its stores and stop selling some ammunition in response to 2 deadly shootings | 17\n",
      "\n",
      "\u001b[1mCBS News\u001b[0m\n",
      "\n",
      "reactions: Prince William and Kate's royal family | 13\n",
      "comments: Trump suggested shooting migrants in the legs, new book claims | 11\n",
      "shares: How we have failed our teachers | 13\n",
      "\n",
      "\u001b[1mCNN\u001b[0m\n",
      "\n",
      "reactions: Jimmy Carter, the oldest living former U.S. president, turns 95 | 10\n",
      "comments: Jimmy Carter, the oldest living former U.S. president, turns 95 | 10\n",
      "shares: Jimmy Carter, the oldest living former U.S. president, turns 95 | 10\n",
      "\n",
      "\u001b[1mNewsweek\u001b[0m\n",
      "\n",
      "reactions: Trump Wanted To Reinforce His Border Wall With a Water-Filled Trench Full of Snakes and Alligators: Report - Newsweek | 4\n",
      "comments: Trump Wanted To Reinforce His Border Wall With a Water-Filled Trench Full of Snakes and Alligators: Report - Newsweek | 4\n",
      "shares: Trump Wanted To Reinforce His Border Wall With a Water-Filled Trench Full of Snakes and Alligators: Report - Newsweek | 4\n",
      "\n",
      "\u001b[1mReuters\u001b[0m\n",
      "\n",
      "reactions: Trump officials weigh limits on U.S. portfolio flows into China: Bloomberg | 15\n",
      "comments: Pelosi accuses U.S. Attorney General of going 'rogue' in Ukraine case | 18\n",
      "shares: Huawei talks up own apps with Mate 30 challenge to Apple, Samsung | 17\n",
      "\n",
      "\u001b[1mThe Irish Times\u001b[0m\n",
      "\n",
      "reactions: Ireland’s Rugby World Cup squad as you’ve never seen them before | 5\n",
      "comments: Is this the final Brexit straw? Lyons Tea may disappear with no deal | 9\n",
      "shares: Fintan O’Toole: Boris has destroyed what is left of UK’s credibility | 13\n",
      "\n",
      "\u001b[1mThe New York Times\u001b[0m\n",
      "\n",
      "reactions: Trump Administration to Finalize Rollback of Clean Water Protections | 13\n",
      "comments: John Bolton Out as National Security Adviser | 16\n",
      "shares: Trump Administration to Finalize Rollback of Clean Water Protections | 13\n",
      "\n",
      "\u001b[1mThe Wall Street Journal\u001b[0m\n",
      "\n",
      "reactions: Pompeo Objects to Deposition Dates for State Department Officials | 14\n",
      "comments: Pompeo Objects to Deposition Dates for State Department Officials | 14\n",
      "shares: Pompeo Objects to Deposition Dates for State Department Officials | 14\n",
      "\n"
     ]
    }
   ],
   "source": [
    "#checking for the outliers's title\n",
    "from io import StringIO\n",
    "outputIO = StringIO()\n",
    "\n",
    "outputIO.write('# Titolo articoli con più interazioni per pubblicazione\\n\\n')\n",
    "\n",
    "for key, item in data.groupby('source_id'):\n",
    "    outputIO.write('1. [' + source_info.loc[key, 'name'] + '](#' + key + ')\\n')\n",
    "\n",
    "outputIO.write('\\n')\n",
    "\n",
    "for key, item in data.groupby('source_id'):\n",
    "    source = source_info.loc[key, 'name']\n",
    "    print('\\033[1m' + source + '\\033[0m\\n')\n",
    "    \n",
    "    outputIO.write('## <a name=\\'' + key + '\\'> ' + source + '\\n')\n",
    "    \n",
    "    catMax = item.describe().T['max']\n",
    "    \n",
    "    for cat in catMax.index:\n",
    "        outlier = item.loc[item[cat] == catMax[cat]]\n",
    "\n",
    "        titolo = outlier['title'].iloc[0] + ' | '\n",
    "        hour = outlier['datetime'].iloc[0].hour\n",
    "        \n",
    "        print(cat, end=': ')        \n",
    "        print(titolo, end='')\n",
    "        print(hour)\n",
    "        \n",
    "        outputIO.write('**' + cat + ':** ')\n",
    "        outputIO.write(titolo)\n",
    "        outputIO.write(str(hour) + '\\\\\\n') \n",
    "    \n",
    "    print()\n",
    "    \n",
    "    outputIO.seek(outputIO.tell() - 2)\n",
    "    outputIO.write('\\n\\n')\n",
    "    "
   ]
  },
  {
   "cell_type": "markdown",
   "metadata": {},
   "source": [
    "## Saving"
   ]
  },
  {
   "cell_type": "code",
   "execution_count": 66,
   "metadata": {},
   "outputs": [],
   "source": [
    "data.to_csv('datasets/data.csv')\n",
    "source_info.to_csv('datasets/info.csv')"
   ]
  },
  {
   "cell_type": "code",
   "execution_count": 67,
   "metadata": {},
   "outputs": [],
   "source": [
    "fig.savefig('img/histograms_per_source.jpg', bbox_inches='tight', dpi=300)"
   ]
  },
  {
   "cell_type": "code",
   "execution_count": 68,
   "metadata": {},
   "outputs": [],
   "source": [
    "with open('res/articoli_massima_interazione.md', 'w') as output_file:\n",
    "    print(outputIO.getvalue(), file = output_file)\n",
    "\n",
    "outputIO.close()"
   ]
  }
 ],
 "metadata": {
  "kernelspec": {
   "display_name": "Python 3",
   "language": "python",
   "name": "python3"
  },
  "language_info": {
   "codemirror_mode": {
    "name": "ipython",
    "version": 3
   },
   "file_extension": ".py",
   "mimetype": "text/x-python",
   "name": "python",
   "nbconvert_exporter": "python",
   "pygments_lexer": "ipython3",
   "version": "3.8.6"
  }
 },
 "nbformat": 4,
 "nbformat_minor": 4
}
