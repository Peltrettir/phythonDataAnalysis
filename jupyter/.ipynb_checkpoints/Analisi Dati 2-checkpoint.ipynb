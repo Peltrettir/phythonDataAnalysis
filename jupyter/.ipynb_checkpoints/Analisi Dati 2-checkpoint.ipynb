{
 "cells": [
  {
   "cell_type": "code",
   "execution_count": 612,
   "metadata": {},
   "outputs": [],
   "source": [
    "import numpy as np\n",
    "import pandas as pd\n",
    "import matplotlib.pyplot as plt\n",
    "import seaborn as sns"
   ]
  },
  {
   "cell_type": "code",
   "execution_count": 613,
   "metadata": {},
   "outputs": [],
   "source": [
    "data = pd.read_csv('datasets/data.csv')\n",
    "info = pd.read_csv('datasets/info.csv')"
   ]
  },
  {
   "cell_type": "code",
   "execution_count": 614,
   "metadata": {},
   "outputs": [
    {
     "name": "stdout",
     "output_type": "stream",
     "text": [
      "<class 'pandas.core.frame.DataFrame'>\n",
      "RangeIndex: 10235 entries, 0 to 10234\n",
      "Data columns (total 8 columns):\n",
      " #   Column       Non-Null Count  Dtype \n",
      "---  ------       --------------  ----- \n",
      " 0   id           10235 non-null  int64 \n",
      " 1   source_id    10235 non-null  object\n",
      " 2   title        10235 non-null  object\n",
      " 3   datetime     10235 non-null  object\n",
      " 4   top_article  10235 non-null  bool  \n",
      " 5   reactions    10235 non-null  int64 \n",
      " 6   comments     10235 non-null  int64 \n",
      " 7   shares       10235 non-null  int64 \n",
      "dtypes: bool(1), int64(4), object(3)\n",
      "memory usage: 569.8+ KB\n"
     ]
    }
   ],
   "source": [
    "data.info()"
   ]
  },
  {
   "cell_type": "code",
   "execution_count": 615,
   "metadata": {},
   "outputs": [],
   "source": [
    "#reconverting datetime\n",
    "data['datetime'] = pd.to_datetime(data['datetime'])"
   ]
  },
  {
   "cell_type": "code",
   "execution_count": 616,
   "metadata": {},
   "outputs": [
    {
     "name": "stdout",
     "output_type": "stream",
     "text": [
      "<class 'pandas.core.frame.DataFrame'>\n",
      "RangeIndex: 11 entries, 0 to 10\n",
      "Data columns (total 3 columns):\n",
      " #   Column    Non-Null Count  Dtype \n",
      "---  ------    --------------  ----- \n",
      " 0   id        11 non-null     object\n",
      " 1   name      11 non-null     object\n",
      " 2   articles  11 non-null     int64 \n",
      "dtypes: int64(1), object(2)\n",
      "memory usage: 392.0+ bytes\n"
     ]
    }
   ],
   "source": [
    "info.info()"
   ]
  },
  {
   "cell_type": "code",
   "execution_count": 617,
   "metadata": {},
   "outputs": [],
   "source": [
    "#setting ids\n",
    "data.set_index('id', inplace=True)\n",
    "info.set_index('id', inplace=True)"
   ]
  },
  {
   "cell_type": "code",
   "execution_count": 618,
   "metadata": {},
   "outputs": [],
   "source": [
    "#Reconverting dtypes object -> string\n",
    "objcol = info.select_dtypes('object').columns\n",
    "info[objcol] = info[objcol].astype('string')"
   ]
  },
  {
   "cell_type": "markdown",
   "metadata": {},
   "source": [
    "## Normalizing interactions"
   ]
  },
  {
   "cell_type": "code",
   "execution_count": 619,
   "metadata": {},
   "outputs": [],
   "source": [
    "intcols = data.select_dtypes('int64').columns\n",
    "data[intcols] = data[intcols].astype('float64')\n",
    "\n",
    "engagement_col = data.select_dtypes('float64').columns\n",
    "grouped_data = {}\n",
    "\n",
    "for key, item in data.groupby('source_id'):\n",
    "    grouped_data[key] = item"
   ]
  },
  {
   "cell_type": "code",
   "execution_count": 620,
   "metadata": {},
   "outputs": [
    {
     "name": "stderr",
     "output_type": "stream",
     "text": [
      "<ipython-input-620-fbf922d863a8>:9: SettingWithCopyWarning: \n",
      "A value is trying to be set on a copy of a slice from a DataFrame\n",
      "\n",
      "See the caveats in the documentation: https://pandas.pydata.org/pandas-docs/stable/user_guide/indexing.html#returning-a-view-versus-a-copy\n",
      "  info['tot_' + itype][key] = item[itype].sum()\n"
     ]
    }
   ],
   "source": [
    "#calculating relative weights and normalizing\n",
    "\n",
    "for itype in engagement_col:\n",
    "    info['tot_' + itype] = 0\n",
    "\n",
    "for key, item in grouped_data.items():\n",
    "    grouped_data[key]['interactions'] = 0.0\n",
    "    for itype in engagement_col:\n",
    "        info['tot_' + itype][key] = item[itype].sum()\n",
    "        grouped_data[key][itype] = item[itype]/info['tot_' + itype][key]/engagement_col.size\n",
    "        grouped_data[key]['interactions'] += grouped_data[key][itype]"
   ]
  },
  {
   "cell_type": "code",
   "execution_count": 621,
   "metadata": {},
   "outputs": [
    {
     "data": {
      "text/plain": [
       "{'abc-news': 0     0.016664\n",
       " 1     0.010532\n",
       " 2     0.003013\n",
       " 3     0.001167\n",
       " 4     0.001237\n",
       " 5     0.001592\n",
       " 6     0.009710\n",
       " 7     0.001826\n",
       " 8     0.004268\n",
       " 9     0.007137\n",
       " 10    0.042420\n",
       " 11    0.044432\n",
       " 12    0.072573\n",
       " 13    0.105736\n",
       " 14    0.049220\n",
       " 15    0.387316\n",
       " 16    0.164624\n",
       " 17    0.072496\n",
       " 18    0.004017\n",
       " 19    0.000020\n",
       " dtype: float64,\n",
       " 'al-jazeera-english': 0     0.017321\n",
       " 1     0.015697\n",
       " 2     0.014924\n",
       " 3     0.006086\n",
       " 4     0.078462\n",
       " 5     0.164242\n",
       " 6     0.093905\n",
       " 7     0.100921\n",
       " 8     0.091942\n",
       " 9     0.075750\n",
       " 10    0.041023\n",
       " 11    0.089340\n",
       " 12    0.063164\n",
       " 13    0.039205\n",
       " 14    0.022912\n",
       " 15    0.018385\n",
       " 16    0.034922\n",
       " 17    0.001613\n",
       " 18    0.030037\n",
       " 19    0.000148\n",
       " dtype: float64,\n",
       " 'bbc-news': 0     0.047848\n",
       " 1     0.011743\n",
       " 3     0.006481\n",
       " 4     0.002804\n",
       " 5     0.221738\n",
       " 6     0.000892\n",
       " 7     0.003694\n",
       " 8     0.002763\n",
       " 9     0.005093\n",
       " 10    0.051948\n",
       " 11    0.179441\n",
       " 12    0.038728\n",
       " 13    0.036454\n",
       " 14    0.279878\n",
       " 15    0.042137\n",
       " 16    0.058375\n",
       " 17    0.009201\n",
       " 18    0.000515\n",
       " 19    0.000267\n",
       " dtype: float64,\n",
       " 'business-insider': 0     0.074580\n",
       " 1     0.052839\n",
       " 2     0.011078\n",
       " 3     0.004658\n",
       " 4     0.002546\n",
       " 5     0.044124\n",
       " 6     0.004297\n",
       " 7     0.007817\n",
       " 8     0.000849\n",
       " 9     0.012452\n",
       " 10    0.015704\n",
       " 11    0.019420\n",
       " 12    0.048081\n",
       " 13    0.072921\n",
       " 14    0.155424\n",
       " 15    0.167810\n",
       " 16    0.083501\n",
       " 17    0.206598\n",
       " 18    0.013412\n",
       " 19    0.001888\n",
       " dtype: float64,\n",
       " 'cbs-news': 0     0.023385\n",
       " 1     0.036232\n",
       " 2     0.046769\n",
       " 3     0.025666\n",
       " 4     0.016171\n",
       " 5     0.003701\n",
       " 6     0.003716\n",
       " 7     0.001184\n",
       " 8     0.010129\n",
       " 9     0.018376\n",
       " 10    0.038618\n",
       " 11    0.172834\n",
       " 12    0.121175\n",
       " 13    0.144113\n",
       " 14    0.049857\n",
       " 15    0.086758\n",
       " 16    0.062589\n",
       " 17    0.129726\n",
       " 18    0.008953\n",
       " 19    0.000049\n",
       " dtype: float64,\n",
       " 'cnn': 0     0.013769\n",
       " 1     0.035814\n",
       " 2     0.009788\n",
       " 3     0.033291\n",
       " 4     0.031337\n",
       " 5     0.011677\n",
       " 6     0.012371\n",
       " 7     0.049902\n",
       " 8     0.020087\n",
       " 9     0.012328\n",
       " 10    0.215382\n",
       " 11    0.020754\n",
       " 12    0.093226\n",
       " 13    0.122341\n",
       " 14    0.119557\n",
       " 15    0.077565\n",
       " 16    0.073784\n",
       " 17    0.040981\n",
       " 18    0.005920\n",
       " 19    0.000126\n",
       " dtype: float64,\n",
       " 'newsweek': 0     0.055025\n",
       " 1     0.063340\n",
       " 2     0.072069\n",
       " 3     0.018754\n",
       " 4     0.186595\n",
       " 5     0.000080\n",
       " 6     0.000777\n",
       " 7     0.013535\n",
       " 8     0.200924\n",
       " 9     0.100339\n",
       " 10    0.094309\n",
       " 11    0.054618\n",
       " 12    0.020038\n",
       " 13    0.045521\n",
       " 14    0.021490\n",
       " 15    0.023933\n",
       " 16    0.016931\n",
       " 17    0.010779\n",
       " 18    0.000046\n",
       " 19    0.000896\n",
       " dtype: float64,\n",
       " 'reuters': 6     0.014377\n",
       " 7     0.000113\n",
       " 8     0.000330\n",
       " 9     0.011178\n",
       " 10    0.016644\n",
       " 11    0.067606\n",
       " 12    0.024083\n",
       " 13    0.069327\n",
       " 14    0.062245\n",
       " 15    0.157797\n",
       " 16    0.130323\n",
       " 17    0.240276\n",
       " 18    0.172934\n",
       " 19    0.032768\n",
       " dtype: float64,\n",
       " 'the-irish-times': 0     0.000000\n",
       " 2     0.014847\n",
       " 3     0.000177\n",
       " 4     0.001814\n",
       " 5     0.185534\n",
       " 6     0.021963\n",
       " 7     0.027012\n",
       " 8     0.102666\n",
       " 9     0.072526\n",
       " 10    0.043578\n",
       " 11    0.094761\n",
       " 12    0.114107\n",
       " 13    0.154436\n",
       " 14    0.096152\n",
       " 15    0.050997\n",
       " 16    0.013310\n",
       " 17    0.005171\n",
       " 18    0.000780\n",
       " 19    0.000169\n",
       " dtype: float64,\n",
       " 'the-new-york-times': 0     0.079258\n",
       " 1     0.030722\n",
       " 2     0.028564\n",
       " 3     0.004699\n",
       " 4     0.009190\n",
       " 5     0.001974\n",
       " 6     0.004929\n",
       " 7     0.003672\n",
       " 8     0.007954\n",
       " 9     0.173230\n",
       " 10    0.107579\n",
       " 11    0.028961\n",
       " 12    0.071556\n",
       " 13    0.109290\n",
       " 14    0.065212\n",
       " 15    0.151729\n",
       " 16    0.081884\n",
       " 17    0.029227\n",
       " 18    0.009800\n",
       " 19    0.000572\n",
       " dtype: float64,\n",
       " 'the-wall-street-journal': 0     0.028559\n",
       " 1     0.041904\n",
       " 2     0.001511\n",
       " 3     0.021103\n",
       " 4     0.024556\n",
       " 5     0.000546\n",
       " 6     0.033120\n",
       " 7     0.051317\n",
       " 8     0.020700\n",
       " 9     0.131860\n",
       " 10    0.022350\n",
       " 11    0.038934\n",
       " 12    0.019451\n",
       " 13    0.008347\n",
       " 14    0.318935\n",
       " 15    0.138170\n",
       " 16    0.015477\n",
       " 17    0.057160\n",
       " 18    0.025461\n",
       " 19    0.000540\n",
       " dtype: float64}"
      ]
     },
     "execution_count": 621,
     "metadata": {},
     "output_type": "execute_result"
    }
   ],
   "source": [
    "#Grouping by hour\n",
    "hourly_data = {}\n",
    "hourly_data_tot = {}\n",
    "\n",
    "for source, group in grouped_data.items():\n",
    "    group['hour'] = group['datetime'].map(lambda x : x.hour)\n",
    "    temp = {}\n",
    "    for key, item in group.groupby('hour'):\n",
    "        temp[key] = item.interactions.sum()\n",
    "        hourly_data_tot[key] = hourly_data_tot.get(key, 0) + temp[key]\n",
    "    hourly_data[source] = pd.Series(temp)\n",
    "hourly_data"
   ]
  },
  {
   "cell_type": "code",
   "execution_count": 622,
   "metadata": {},
   "outputs": [],
   "source": [
    "for key in hourly_data_tot.keys():\n",
    "    hourly_data_tot[key] /= info.index.size\n",
    "\n",
    "hourly_data_tot = pd.Series(hourly_data_tot)"
   ]
  },
  {
   "cell_type": "markdown",
   "metadata": {},
   "source": [
    "## Plotting"
   ]
  },
  {
   "cell_type": "code",
   "execution_count": 623,
   "metadata": {},
   "outputs": [
    {
     "data": {
      "image/png": "[encoded data removed]",
      "text/plain": [
       "<Figure size 10656x72 with 1 Axes>"
      ]
     },
     "metadata": {
      "needs_background": "light"
     },
     "output_type": "display_data"
    },
    {
     "data": {
      "image/png": "[encoded data removed]",
      "text/plain": [
       "<Figure size 720x72 with 1 Axes>"
      ]
     },
     "metadata": {
      "needs_background": "light"
     },
     "output_type": "display_data"
    }
   ],
   "source": [
    "import matplotlib.colors as mcolors\n",
    "sns.palplot(mcolors.CSS4_COLORS)\n",
    "sns.palplot(mcolors.TABLEAU_COLORS)"
   ]
  },
  {
   "cell_type": "code",
   "execution_count": 624,
   "metadata": {},
   "outputs": [
    {
     "data": {
      "text/plain": [
       "['aliceblue',\n",
       " 'antiquewhite',\n",
       " 'aqua',\n",
       " 'aquamarine',\n",
       " 'azure',\n",
       " 'beige',\n",
       " 'bisque',\n",
       " 'black',\n",
       " 'blanchedalmond',\n",
       " 'blue',\n",
       " 'blueviolet',\n",
       " 'brown',\n",
       " 'burlywood',\n",
       " 'cadetblue',\n",
       " 'chartreuse',\n",
       " 'chocolate',\n",
       " 'coral',\n",
       " 'cornflowerblue',\n",
       " 'cornsilk',\n",
       " 'crimson',\n",
       " 'cyan',\n",
       " 'darkblue',\n",
       " 'darkcyan',\n",
       " 'darkgoldenrod',\n",
       " 'darkgray',\n",
       " 'darkgreen',\n",
       " 'darkgrey',\n",
       " 'darkkhaki',\n",
       " 'darkmagenta',\n",
       " 'darkolivegreen',\n",
       " 'darkorange',\n",
       " 'darkorchid',\n",
       " 'darkred',\n",
       " 'darksalmon',\n",
       " 'darkseagreen',\n",
       " 'darkslateblue',\n",
       " 'darkslategray',\n",
       " 'darkslategrey',\n",
       " 'darkturquoise',\n",
       " 'darkviolet',\n",
       " 'deeppink',\n",
       " 'deepskyblue',\n",
       " 'dimgray',\n",
       " 'dimgrey',\n",
       " 'dodgerblue',\n",
       " 'firebrick',\n",
       " 'floralwhite',\n",
       " 'forestgreen',\n",
       " 'fuchsia',\n",
       " 'gainsboro',\n",
       " 'ghostwhite',\n",
       " 'gold',\n",
       " 'goldenrod',\n",
       " 'gray',\n",
       " 'green',\n",
       " 'greenyellow',\n",
       " 'grey',\n",
       " 'honeydew',\n",
       " 'hotpink',\n",
       " 'indianred',\n",
       " 'indigo',\n",
       " 'ivory',\n",
       " 'khaki',\n",
       " 'lavender',\n",
       " 'lavenderblush',\n",
       " 'lawngreen',\n",
       " 'lemonchiffon',\n",
       " 'lightblue',\n",
       " 'lightcoral',\n",
       " 'lightcyan',\n",
       " 'lightgoldenrodyellow',\n",
       " 'lightgray',\n",
       " 'lightgreen',\n",
       " 'lightgrey',\n",
       " 'lightpink',\n",
       " 'lightsalmon',\n",
       " 'lightseagreen',\n",
       " 'lightskyblue',\n",
       " 'lightslategray',\n",
       " 'lightslategrey',\n",
       " 'lightsteelblue',\n",
       " 'lightyellow',\n",
       " 'lime',\n",
       " 'limegreen',\n",
       " 'linen',\n",
       " 'magenta',\n",
       " 'maroon',\n",
       " 'mediumaquamarine',\n",
       " 'mediumblue',\n",
       " 'mediumorchid',\n",
       " 'mediumpurple',\n",
       " 'mediumseagreen',\n",
       " 'mediumslateblue',\n",
       " 'mediumspringgreen',\n",
       " 'mediumturquoise',\n",
       " 'mediumvioletred',\n",
       " 'midnightblue',\n",
       " 'mintcream',\n",
       " 'mistyrose',\n",
       " 'moccasin',\n",
       " 'navajowhite',\n",
       " 'navy',\n",
       " 'oldlace',\n",
       " 'olive',\n",
       " 'olivedrab',\n",
       " 'orange',\n",
       " 'orangered',\n",
       " 'orchid',\n",
       " 'palegoldenrod',\n",
       " 'palegreen',\n",
       " 'paleturquoise',\n",
       " 'palevioletred',\n",
       " 'papayawhip',\n",
       " 'peachpuff',\n",
       " 'peru',\n",
       " 'pink',\n",
       " 'plum',\n",
       " 'powderblue',\n",
       " 'purple',\n",
       " 'rebeccapurple',\n",
       " 'red',\n",
       " 'rosybrown',\n",
       " 'royalblue',\n",
       " 'saddlebrown',\n",
       " 'salmon',\n",
       " 'sandybrown',\n",
       " 'seagreen',\n",
       " 'seashell',\n",
       " 'sienna',\n",
       " 'silver',\n",
       " 'skyblue',\n",
       " 'slateblue',\n",
       " 'slategray',\n",
       " 'slategrey',\n",
       " 'snow',\n",
       " 'springgreen',\n",
       " 'steelblue',\n",
       " 'tan',\n",
       " 'teal',\n",
       " 'thistle',\n",
       " 'tomato',\n",
       " 'turquoise',\n",
       " 'violet',\n",
       " 'wheat',\n",
       " 'white',\n",
       " 'whitesmoke',\n",
       " 'yellow',\n",
       " 'yellowgreen']"
      ]
     },
     "execution_count": 624,
     "metadata": {},
     "output_type": "execute_result"
    }
   ],
   "source": [
    "#colors will start from black\n",
    "colors = list(mcolors.CSS4_COLORS)\n",
    "colors"
   ]
  },
  {
   "cell_type": "code",
   "execution_count": 625,
   "metadata": {},
   "outputs": [
    {
     "name": "stderr",
     "output_type": "stream",
     "text": [
      "<ipython-input-625-a0fba849c52a>:4: SettingWithCopyWarning: \n",
      "A value is trying to be set on a copy of a slice from a DataFrame\n",
      "\n",
      "See the caveats in the documentation: https://pandas.pydata.org/pandas-docs/stable/user_guide/indexing.html#returning-a-view-versus-a-copy\n",
      "  info['color'][i] = colors[i + 7]\n"
     ]
    },
    {
     "data": {
      "text/html": [
       "<div>\n",
       "<style scoped>\n",
       "    .dataframe tbody tr th:only-of-type {\n",
       "        vertical-align: middle;\n",
       "    }\n",
       "\n",
       "    .dataframe tbody tr th {\n",
       "        vertical-align: top;\n",
       "    }\n",
       "\n",
       "    .dataframe thead th {\n",
       "        text-align: right;\n",
       "    }\n",
       "</style>\n",
       "<table border=\"1\" class=\"dataframe\">\n",
       "  <thead>\n",
       "    <tr style=\"text-align: right;\">\n",
       "      <th></th>\n",
       "      <th>name</th>\n",
       "      <th>articles</th>\n",
       "      <th>tot_reactions</th>\n",
       "      <th>tot_comments</th>\n",
       "      <th>tot_shares</th>\n",
       "      <th>color</th>\n",
       "    </tr>\n",
       "    <tr>\n",
       "      <th>id</th>\n",
       "      <th></th>\n",
       "      <th></th>\n",
       "      <th></th>\n",
       "      <th></th>\n",
       "      <th></th>\n",
       "      <th></th>\n",
       "    </tr>\n",
       "  </thead>\n",
       "  <tbody>\n",
       "    <tr>\n",
       "      <th>reuters</th>\n",
       "      <td>Reuters</td>\n",
       "      <td>1252</td>\n",
       "      <td>16963</td>\n",
       "      <td>7101</td>\n",
       "      <td>647095</td>\n",
       "      <td>black</td>\n",
       "    </tr>\n",
       "    <tr>\n",
       "      <th>the-irish-times</th>\n",
       "      <td>The Irish Times</td>\n",
       "      <td>1116</td>\n",
       "      <td>26838</td>\n",
       "      <td>10514</td>\n",
       "      <td>6947</td>\n",
       "      <td>blanchedalmond</td>\n",
       "    </tr>\n",
       "    <tr>\n",
       "      <th>al-jazeera-english</th>\n",
       "      <td>Al Jazeera English</td>\n",
       "      <td>499</td>\n",
       "      <td>140410</td>\n",
       "      <td>46005</td>\n",
       "      <td>36031</td>\n",
       "      <td>blue</td>\n",
       "    </tr>\n",
       "    <tr>\n",
       "      <th>bbc-news</th>\n",
       "      <td>BBC News</td>\n",
       "      <td>1242</td>\n",
       "      <td>545396</td>\n",
       "      <td>207558</td>\n",
       "      <td>200636</td>\n",
       "      <td>blueviolet</td>\n",
       "    </tr>\n",
       "    <tr>\n",
       "      <th>abc-news</th>\n",
       "      <td>ABC News</td>\n",
       "      <td>1139</td>\n",
       "      <td>343779</td>\n",
       "      <td>102708</td>\n",
       "      <td>82662</td>\n",
       "      <td>brown</td>\n",
       "    </tr>\n",
       "    <tr>\n",
       "      <th>the-new-york-times</th>\n",
       "      <td>The New York Times</td>\n",
       "      <td>983</td>\n",
       "      <td>789908</td>\n",
       "      <td>215853</td>\n",
       "      <td>241348</td>\n",
       "      <td>burlywood</td>\n",
       "    </tr>\n",
       "    <tr>\n",
       "      <th>cnn</th>\n",
       "      <td>CNN</td>\n",
       "      <td>1132</td>\n",
       "      <td>1218206</td>\n",
       "      <td>344894</td>\n",
       "      <td>327778</td>\n",
       "      <td>cadetblue</td>\n",
       "    </tr>\n",
       "    <tr>\n",
       "      <th>cbs-news</th>\n",
       "      <td>CBS News</td>\n",
       "      <td>952</td>\n",
       "      <td>459741</td>\n",
       "      <td>170960</td>\n",
       "      <td>108155</td>\n",
       "      <td>chartreuse</td>\n",
       "    </tr>\n",
       "    <tr>\n",
       "      <th>newsweek</th>\n",
       "      <td>Newsweek</td>\n",
       "      <td>539</td>\n",
       "      <td>93167</td>\n",
       "      <td>32426</td>\n",
       "      <td>29067</td>\n",
       "      <td>chocolate</td>\n",
       "    </tr>\n",
       "    <tr>\n",
       "      <th>business-insider</th>\n",
       "      <td>Business Insider</td>\n",
       "      <td>1048</td>\n",
       "      <td>216545</td>\n",
       "      <td>101292</td>\n",
       "      <td>311678</td>\n",
       "      <td>coral</td>\n",
       "    </tr>\n",
       "    <tr>\n",
       "      <th>the-wall-street-journal</th>\n",
       "      <td>The Wall Street Journal</td>\n",
       "      <td>333</td>\n",
       "      <td>84124</td>\n",
       "      <td>40065</td>\n",
       "      <td>33173</td>\n",
       "      <td>cornflowerblue</td>\n",
       "    </tr>\n",
       "  </tbody>\n",
       "</table>\n",
       "</div>"
      ],
      "text/plain": [
       "                                            name  articles  tot_reactions  \\\n",
       "id                                                                          \n",
       "reuters                                  Reuters      1252          16963   \n",
       "the-irish-times                  The Irish Times      1116          26838   \n",
       "al-jazeera-english            Al Jazeera English       499         140410   \n",
       "bbc-news                                BBC News      1242         545396   \n",
       "abc-news                                ABC News      1139         343779   \n",
       "the-new-york-times            The New York Times       983         789908   \n",
       "cnn                                          CNN      1132        1218206   \n",
       "cbs-news                                CBS News       952         459741   \n",
       "newsweek                                Newsweek       539          93167   \n",
       "business-insider                Business Insider      1048         216545   \n",
       "the-wall-street-journal  The Wall Street Journal       333          84124   \n",
       "\n",
       "                         tot_comments  tot_shares           color  \n",
       "id                                                                 \n",
       "reuters                          7101      647095           black  \n",
       "the-irish-times                 10514        6947  blanchedalmond  \n",
       "al-jazeera-english              46005       36031            blue  \n",
       "bbc-news                       207558      200636      blueviolet  \n",
       "abc-news                       102708       82662           brown  \n",
       "the-new-york-times             215853      241348       burlywood  \n",
       "cnn                            344894      327778       cadetblue  \n",
       "cbs-news                       170960      108155      chartreuse  \n",
       "newsweek                        32426       29067       chocolate  \n",
       "business-insider               101292      311678           coral  \n",
       "the-wall-street-journal         40065       33173  cornflowerblue  "
      ]
     },
     "execution_count": 625,
     "metadata": {},
     "output_type": "execute_result"
    }
   ],
   "source": [
    "info['color'] = \"\"\n",
    "\n",
    "for i in range(info.index.size):\n",
    "    info['color'][i] = colors[i + 7]\n",
    "    \n",
    "info"
   ]
  },
  {
   "cell_type": "raw",
   "metadata": {},
   "source": []
  },
  {
   "cell_type": "code",
   "execution_count": 626,
   "metadata": {},
   "outputs": [],
   "source": [
    "def plot(figure, title, data_dict):\n",
    "    ax = figure.add_subplot(111)\n",
    "    ax.set_xlabel('ora')\n",
    "    ax.set_ylabel('interazioni')\n",
    "    ax.set_xticks\n",
    "    ax.set_title(title)\n",
    "\n",
    "    for key, item in data_dict.items():\n",
    "        color = 'blue'\n",
    "        name = ''\n",
    "        if (key in info.index):\n",
    "            color = info['color'][key] if not (key in info) else 'blue'\n",
    "            name = info['name'][key] if not (key in info) else ''\n",
    "        ax.scatter(item.index, item.values, c = color, label = name)\n",
    "\n",
    "    ax.legend(loc='upper left');"
   ]
  },
  {
   "cell_type": "code",
   "execution_count": 627,
   "metadata": {},
   "outputs": [
    {
     "data": {
      "image/png": "[encoded data removed]",
      "text/plain": [
       "<Figure size 1440x720 with 1 Axes>"
      ]
     },
     "metadata": {},
     "output_type": "display_data"
    }
   ],
   "source": [
    "   #Creating a figure with one axes for each news source. \n",
    "nsources = info.index.size\n",
    "fig = plt.figure(figsize=(20, 10.0), facecolor='w') \n",
    "\n",
    "plot(fig, 'Scatter Interazioni', hourly_data)"
   ]
  },
  {
   "cell_type": "code",
   "execution_count": 628,
   "metadata": {},
   "outputs": [],
   "source": [
    "#plotting cumulative graph"
   ]
  },
  {
   "cell_type": "code",
   "execution_count": 629,
   "metadata": {},
   "outputs": [
    {
     "data": {
      "text/plain": [
       "<matplotlib.legend.Legend at 0x7fa1cf8240a0>"
      ]
     },
     "execution_count": 629,
     "metadata": {},
     "output_type": "execute_result"
    },
    {
     "data": {
      "image/png": "[encoded data removed]",
      "text/plain": [
       "<Figure size 1440x720 with 1 Axes>"
      ]
     },
     "metadata": {},
     "output_type": "display_data"
    }
   ],
   "source": [
    "fig2 = plt.figure(figsize=(20, 10.0), facecolor='w') \n",
    "ax = fig2.add_subplot(111)\n",
    "ax.set_xlabel('ora')\n",
    "ax.set_ylabel('interazioni')\n",
    "ax.set_title('Scatter Interazioni Totali')\n",
    "ax.scatter(hourly_data_tot.index, hourly_data_tot.values, c = 'blue', label= 'All Sources')\n",
    "ax.legend(loc = 'upper left')"
   ]
  },
  {
   "cell_type": "markdown",
   "metadata": {},
   "source": [
    "## Replotting without foreign source"
   ]
  },
  {
   "cell_type": "code",
   "execution_count": 630,
   "metadata": {},
   "outputs": [],
   "source": [
    "import copy\n",
    "\n",
    "hourly_data_local = copy.deepcopy(hourly_data)\n",
    "del hourly_data_local['the-irish-times']\n",
    "del hourly_data_local['al-jazeera-english']"
   ]
  },
  {
   "cell_type": "code",
   "execution_count": 631,
   "metadata": {},
   "outputs": [
    {
     "data": {
      "image/png": "[encoded data removed]",
      "text/plain": [
       "<Figure size 1440x720 with 1 Axes>"
      ]
     },
     "metadata": {},
     "output_type": "display_data"
    }
   ],
   "source": [
    "fig3 = plt.figure(figsize=(20, 10.0), facecolor='w') \n",
    "\n",
    "plot(fig3, 'Scatter Interazioni Locali', hourly_data_local)"
   ]
  },
  {
   "cell_type": "code",
   "execution_count": 632,
   "metadata": {},
   "outputs": [],
   "source": [
    "hours = 20\n",
    "\n",
    "hourly_data_local_tot = pd.Series(0,index=[x for x in range(hours)])\n",
    "\n",
    "\n",
    "for key in hourly_data_local.keys():\n",
    "    for x in range(hours):\n",
    "        hourly_data_local[key][x] = hourly_data_local[key].get(x, 0)\n",
    "        \n",
    "    hourly_data_local_tot += hourly_data_local[key]\n",
    "    \n",
    "count = len(hourly_data_local.keys())\n",
    "for x in range(hours):\n",
    "    hourly_data_local_tot[x] /= count    "
   ]
  },
  {
   "cell_type": "code",
   "execution_count": 633,
   "metadata": {},
   "outputs": [
    {
     "data": {
      "image/png": "[encoded data removed]",
      "text/plain": [
       "<Figure size 1440x720 with 1 Axes>"
      ]
     },
     "execution_count": 633,
     "metadata": {},
     "output_type": "execute_result"
    }
   ],
   "source": [
    "ax.scatter(hourly_data_local_tot.index, hourly_data_local_tot.values, c = 'green', label= 'Local Sources')\n",
    "ax.legend(loc='upper left');\n",
    "fig2"
   ]
  },
  {
   "cell_type": "markdown",
   "metadata": {},
   "source": [
    "## Saving"
   ]
  },
  {
   "cell_type": "code",
   "execution_count": 634,
   "metadata": {},
   "outputs": [],
   "source": [
    "info.to_csv('datasets/info2.csv')"
   ]
  },
  {
   "cell_type": "code",
   "execution_count": 635,
   "metadata": {},
   "outputs": [],
   "source": [
    "fig.savefig('img/scatter_interazioni.jpg', bbox_inches='tight', dpi=300)\n",
    "fig2.savefig('img/scatter_interazioni_totali.jpg', bbox_inches='tight', dpi=300)\n",
    "fig3.savefig('img/scatter_interazioni_locali.jpg', bbox_inches='tight', dpi=300)"
   ]
  },
  {
   "cell_type": "code",
   "execution_count": 636,
   "metadata": {},
   "outputs": [],
   "source": [
    "for key, item in hourly_data.items():\n",
    "    item.to_csv('datasets/scatter/' + str(key) + '.csv')"
   ]
  },
  {
   "cell_type": "code",
   "execution_count": 637,
   "metadata": {},
   "outputs": [
    {
     "ename": "SyntaxError",
     "evalue": "invalid syntax (<ipython-input-637-090e94d8abb0>, line 2)",
     "output_type": "error",
     "traceback": [
      "\u001b[0;36m  File \u001b[0;32m\"<ipython-input-637-090e94d8abb0>\"\u001b[0;36m, line \u001b[0;32m2\u001b[0m\n\u001b[0;31m    print(item.)\u001b[0m\n\u001b[0m               ^\u001b[0m\n\u001b[0;31mSyntaxError\u001b[0m\u001b[0;31m:\u001b[0m invalid syntax\n"
     ]
    }
   ],
   "source": [
    "for key, item in grouped_data.items():\n",
    "    print(item.)"
   ]
  }
 ],
 "metadata": {
  "kernelspec": {
   "display_name": "Python 3",
   "language": "python",
   "name": "python3"
  },
  "language_info": {
   "codemirror_mode": {
    "name": "ipython",
    "version": 3
   },
   "file_extension": ".py",
   "mimetype": "text/x-python",
   "name": "python",
   "nbconvert_exporter": "python",
   "pygments_lexer": "ipython3",
   "version": "3.8.6"
  }
 },
 "nbformat": 4,
 "nbformat_minor": 4
}
